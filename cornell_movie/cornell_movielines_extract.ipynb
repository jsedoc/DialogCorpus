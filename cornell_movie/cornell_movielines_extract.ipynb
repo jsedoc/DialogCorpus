{
 "cells": [
  {
   "cell_type": "code",
   "execution_count": 1,
   "metadata": {},
   "outputs": [],
   "source": [
    "import json\n",
    "import os\n",
    "import tqdm\n",
    "import sys\n",
    "\n",
    "sys.path.insert(0, '/home/jinggu/Downloads/convkit_corpus')\n",
    "import util\n",
    "from util import *"
   ]
  },
  {
   "cell_type": "code",
   "execution_count": null,
   "metadata": {},
   "outputs": [],
   "source": [
    "with open(\"cornell_movie_dialogs_corpus/cornell movie-dialogs corpus/movie_lines.txt\", \"r\", encoding='utf8', errors='ignore') as fp:\n",
    "    raw_text = fp.readlines()\n",
    "    raw_text.reverse()"
   ]
  },
  {
   "cell_type": "code",
   "execution_count": null,
   "metadata": {},
   "outputs": [],
   "source": [
    "def detect_info(line):\n",
    "    s = line.strip().split(\"+++$+++\")\n",
    "    if s[0][0] == \"L\" and int(s[0][1:]):\n",
    "        num = int(s[0][1:])\n",
    "        text = s[-1]\n",
    "        name = s[-2]\n",
    "    return num, name.strip(), text.strip()"
   ]
  },
  {
   "cell_type": "code",
   "execution_count": null,
   "metadata": {},
   "outputs": [],
   "source": [
    "l = map(detect_info, raw_text)\n",
    "l = list(l)\n",
    "l = [[one[0], one[1], one[2]] for one in l]"
   ]
  },
  {
   "cell_type": "code",
   "execution_count": null,
   "metadata": {},
   "outputs": [],
   "source": [
    "index = [0]\n",
    "for idx in range(len(l)-1):\n",
    "    if l[idx+1][0] - l[idx][0] != 1:\n",
    "        index.append(idx+1)\n",
    "index.append(len(l))\n",
    "\n",
    "new_dial = []\n",
    "for idx in range(len(index)-1):\n",
    "    start = index[idx]\n",
    "    end = index[idx+1]\n",
    "    new_dial.append(l[start:end])"
   ]
  },
  {
   "cell_type": "code",
   "execution_count": null,
   "metadata": {},
   "outputs": [],
   "source": [
    "for idx in range(len(new_dial)):\n",
    "    for jdx in range(len(new_dial[idx])):\n",
    "        assert len(new_dial[idx][jdx]) == 3\n",
    "        new_dial[idx][jdx] = [new_dial[idx][jdx][1], new_dial[idx][jdx][2]]"
   ]
  },
  {
   "cell_type": "code",
   "execution_count": null,
   "metadata": {},
   "outputs": [],
   "source": [
    "new_dial = process_dialogue(new_dial)"
   ]
  },
  {
   "cell_type": "code",
   "execution_count": null,
   "metadata": {},
   "outputs": [],
   "source": [
    "new_dial = {\"cornellMovie_\"+str(idx): new_dial[idx] for idx in range(len(new_dial))}"
   ]
  },
  {
   "cell_type": "code",
   "execution_count": null,
   "metadata": {},
   "outputs": [],
   "source": [
    "with open(\"cornell_movie_extracted.json\", \"w\") as f:\n",
    "    json.dump(new_dial, f, indent=4)"
   ]
  },
  {
   "cell_type": "code",
   "execution_count": null,
   "metadata": {},
   "outputs": [],
   "source": []
  }
 ],
 "metadata": {
  "kernelspec": {
   "display_name": "Python 3",
   "language": "python",
   "name": "python3"
  },
  "language_info": {
   "codemirror_mode": {
    "name": "ipython",
    "version": 3
   },
   "file_extension": ".py",
   "mimetype": "text/x-python",
   "name": "python",
   "nbconvert_exporter": "python",
   "pygments_lexer": "ipython3",
   "version": "3.7.3"
  }
 },
 "nbformat": 4,
 "nbformat_minor": 2
}
